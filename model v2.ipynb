{
 "cells": [
  {
   "cell_type": "markdown",
   "metadata": {},
   "source": [
    "# Self-Driving Car ND : P3 - Behavioural Cloning "
   ]
  },
  {
   "cell_type": "markdown",
   "metadata": {},
   "source": [
    "## The below code building two different ConvNet to predict steering angle based on camera inputs. The first is a ConvNet based on LeNet architecture and the second is based on the NVIDIA model for autonomous driving. "
   ]
  },
  {
   "cell_type": "code",
   "execution_count": 1,
   "metadata": {
    "collapsed": true
   },
   "outputs": [],
   "source": [
    "import matplotlib.pyplot as plt\n",
    "%matplotlib inline\n",
    "plt.style.use('ggplot')"
   ]
  },
  {
   "cell_type": "code",
   "execution_count": 59,
   "metadata": {
    "collapsed": true
   },
   "outputs": [],
   "source": [
    "import csv \n",
    "import cv2 \n",
    "import numpy as np\n",
    "from sklearn.model_selection import train_test_split\n",
    "from sklearn.utils import shuffle"
   ]
  },
  {
   "cell_type": "markdown",
   "metadata": {},
   "source": [
    "### Prepare the data"
   ]
  },
  {
   "cell_type": "code",
   "execution_count": 3,
   "metadata": {
    "collapsed": true
   },
   "outputs": [],
   "source": [
    "def process_image(filepath): \n",
    "    image = cv2.imread(filepath)\n",
    "    image = cv2.cvtColor(image, cv2.COLOR_BGR2RGB)\n",
    "    return image "
   ]
  },
  {
   "cell_type": "code",
   "execution_count": 26,
   "metadata": {},
   "outputs": [],
   "source": [
    "def load_data(paths): \n",
    "    \n",
    "    filenames = [] \n",
    "    measurements = [] \n",
    "    \n",
    "    for path in paths: \n",
    "        image_path = path + 'IMG/'\n",
    "        with open(path + 'driving_log.csv') as csvfile: \n",
    "            reader = csv.reader(csvfile)\n",
    "            for line in reader: \n",
    "                steering = line[3].strip()\n",
    "                measurement = float(steering)\n",
    "                center_img = line[0].split('/')[-1]\n",
    "                filenames.append(image_path + center_img)\n",
    "                measurements.append(measurement)\n",
    "            \n",
    "    ids = range(0, len(filenames))\n",
    "    return (ids, filenames, measurements)"
   ]
  },
  {
   "cell_type": "code",
   "execution_count": 28,
   "metadata": {},
   "outputs": [
    {
     "name": "stdout",
     "output_type": "stream",
     "text": [
      "0 data5/IMG/center_2016_12_01_13_30_48_287.jpg 0.0\n"
     ]
    }
   ],
   "source": [
    "paths = ['data5/', 'data2/', 'data3/']\n",
    "data = load_data(paths)\n",
    "print (data[0][0], data[1][0], data[2][0])"
   ]
  },
  {
   "cell_type": "code",
   "execution_count": 29,
   "metadata": {},
   "outputs": [
    {
     "data": {
      "image/png": "[encoded data removed]",
      "text/plain": [
       "<matplotlib.figure.Figure at 0x7f4e9e445d68>"
      ]
     },
     "metadata": {},
     "output_type": "display_data"
    }
   ],
   "source": [
    "y_orig = np.array(data[2])\n",
    "plt.hist(y_orig, bins=50)\n",
    "plt.show()"
   ]
  },
  {
   "cell_type": "code",
   "execution_count": 30,
   "metadata": {
    "collapsed": true
   },
   "outputs": [],
   "source": [
    "def balanced_subsample(data,size):\n",
    "\n",
    "    x = np.array(data[0])\n",
    "    y = np.array(data[2])\n",
    "    class_xs = []\n",
    "\n",
    "    for yi in np.unique(y):\n",
    "        elems = x[(y == yi)]\n",
    "        class_xs.append((yi, elems))\n",
    "\n",
    "    xs = []\n",
    "    ys = []\n",
    "\n",
    "    for ci,this_xs in class_xs:\n",
    "        num = len(this_xs) \n",
    "        if num > size:\n",
    "            np.random.shuffle(this_xs)\n",
    "            x_ = this_xs[:size]\n",
    "            y_ = np.empty(size)\n",
    "            y_.fill(ci)\n",
    "        else: \n",
    "            x_ = this_xs[:]\n",
    "            y_ = np.empty(num)\n",
    "            y_.fill(ci)\n",
    "            \n",
    "        xs.append(x_)\n",
    "        ys.append(y_)\n",
    "\n",
    "    xs = np.concatenate(xs)\n",
    "    ys = np.concatenate(ys)\n",
    "\n",
    "    return xs,ys"
   ]
  },
  {
   "cell_type": "code",
   "execution_count": 31,
   "metadata": {
    "collapsed": true
   },
   "outputs": [],
   "source": [
    "x_sample,y_sample = balanced_subsample(data, size=150)\n",
    "f_sample = [data[1][i] for i in x_sample]"
   ]
  },
  {
   "cell_type": "code",
   "execution_count": 33,
   "metadata": {},
   "outputs": [
    {
     "data": {
      "image/png": "[encoded data removed]",
      "text/plain": [
       "<matplotlib.figure.Figure at 0x7f4e9c9352b0>"
      ]
     },
     "metadata": {},
     "output_type": "display_data"
    }
   ],
   "source": [
    "plt.hist(y_sample, bins=50)\n",
    "plt.show()"
   ]
  },
  {
   "cell_type": "code",
   "execution_count": 34,
   "metadata": {},
   "outputs": [],
   "source": [
    "def load_images(f_sample, y_sample):\n",
    "    x = []\n",
    "    y = []\n",
    "\n",
    "    for filepath, yi in zip(f_sample, y_sample): \n",
    "        image = process_image(filepath)\n",
    "        x.append(image)\n",
    "        y.append(yi)\n",
    "        image_flipped = np.fliplr(image)\n",
    "        yi_flipped = -yi\n",
    "        x.append(image_flipped)\n",
    "        y.append(yi_flipped)\n",
    "\n",
    "    x = np.array(x)\n",
    "    y = np.array(y)\n",
    "    return x,y"
   ]
  },
  {
   "cell_type": "code",
   "execution_count": 36,
   "metadata": {},
   "outputs": [
    {
     "data": {
      "image/png": "[encoded data removed]",
      "text/plain": [
       "<matplotlib.figure.Figure at 0x7f4e943021d0>"
      ]
     },
     "metadata": {},
     "output_type": "display_data"
    }
   ],
   "source": [
    "x,y = load_images(f_sample, y_sample)\n",
    "plt.hist(y, bins=50)\n",
    "plt.show()"
   ]
  },
  {
   "cell_type": "code",
   "execution_count": 47,
   "metadata": {},
   "outputs": [
    {
     "name": "stdout",
     "output_type": "stream",
     "text": [
      "3432 1145\n"
     ]
    }
   ],
   "source": [
    "samples = [s for s in zip(f_sample, y_sample)]\n",
    "train_samples, validation_samples = train_test_split(samples, test_size=0.25)\n",
    "print (len(train_samples), len(validation_samples))"
   ]
  },
  {
   "cell_type": "code",
   "execution_count": 48,
   "metadata": {
    "collapsed": true
   },
   "outputs": [],
   "source": [
    "def augment(filepath, measurement, train=True): \n",
    "    \n",
    "    images = [] \n",
    "    measurements = [] \n",
    "    \n",
    "    filepath_right = filepath.replace(\"center\", \"right\")\n",
    "    \n",
    "    image = process_image(filepath)\n",
    "    images.append(image)\n",
    "    measurements.append(measurement)\n",
    "    \n",
    "    image_flipped = np.fliplr(image)\n",
    "    measurement_flipped = -measurement\n",
    "    images.append(image_flipped)\n",
    "    measurements.append(measurement_flipped)\n",
    "    \n",
    "    image_hsv = hsv = cv2.cvtColor(image, cv2.COLOR_BGR2HSV)\n",
    "    val = np.random.uniform(0.2,0.8)\n",
    "    image_hsv[:,:,2] = image_hsv[:,:,2]*val\n",
    "    images.append(image_hsv)\n",
    "    measurements.append(measurement)\n",
    "\n",
    "    image_flipped_hsv = cv2.cvtColor(image_flipped, cv2.COLOR_BGR2HSV)\n",
    "    val = np.random.uniform(0.2,0.8)\n",
    "    image_flipped_hsv[:,:,2] = image_flipped_hsv[:,:,2]*val\n",
    "    images.append(image_flipped_hsv)\n",
    "    measurements.append(measurement_flipped)    \n",
    "    \n",
    "    if train: \n",
    "        filepath_left = filepath.replace(\"center\", \"left\")\n",
    "        image = process_image(filepath_left)\n",
    "        images.append(image)\n",
    "        measurements.append(measurement)\n",
    "\n",
    "        image_flipped = np.fliplr(image)\n",
    "        measurement_flipped = -measurement\n",
    "        images.append(image_flipped)\n",
    "        measurements.append(measurement_flipped)\n",
    "\n",
    "        image_hsv = hsv = cv2.cvtColor(image, cv2.COLOR_BGR2HSV)\n",
    "        val = np.random.uniform(0.2,0.8)\n",
    "        image_hsv[:,:,2] = image_hsv[:,:,2]*val\n",
    "        images.append(image_hsv)\n",
    "        measurements.append(measurement)\n",
    "\n",
    "        image_flipped_hsv = cv2.cvtColor(image_flipped, cv2.COLOR_BGR2HSV)\n",
    "        val = np.random.uniform(0.2,0.8)\n",
    "        image_flipped_hsv[:,:,2] = image_flipped_hsv[:,:,2]*val\n",
    "        images.append(image_flipped_hsv)\n",
    "        measurements.append(measurement_flipped)\n",
    "        \n",
    "        filepath_right = filepath.replace(\"center\", \"right\")\n",
    "        image = process_image(filepath_right)\n",
    "        images.append(image)\n",
    "        measurements.append(measurement)\n",
    "\n",
    "        image_flipped = np.fliplr(image)\n",
    "        measurement_flipped = -measurement\n",
    "        images.append(image_flipped)\n",
    "        measurements.append(measurement_flipped)\n",
    "\n",
    "        image_hsv = hsv = cv2.cvtColor(image, cv2.COLOR_BGR2HSV)\n",
    "        val = np.random.uniform(0.2,0.8)\n",
    "        image_hsv[:,:,2] = image_hsv[:,:,2]*val\n",
    "        images.append(image_hsv)\n",
    "        measurements.append(measurement)\n",
    "\n",
    "        image_flipped_hsv = cv2.cvtColor(image_flipped, cv2.COLOR_BGR2HSV)\n",
    "        val = np.random.uniform(0.2,0.8)\n",
    "        image_flipped_hsv[:,:,2] = image_flipped_hsv[:,:,2]*val\n",
    "        images.append(image_flipped_hsv)\n",
    "        measurements.append(measurement_flipped)        \n",
    "    \n",
    "    return (images, measurements)"
   ]
  },
  {
   "cell_type": "code",
   "execution_count": 102,
   "metadata": {},
   "outputs": [],
   "source": [
    "def generator(samples, train_flag, batch_size=64):\n",
    "    \n",
    "    if train_flag: \n",
    "        size = int(batch_size / 12) # augment() produces 12 images for every image  \n",
    "    else: \n",
    "        size = int(batch_size / 4) \n",
    "    \n",
    "#     print (size) \n",
    "        \n",
    "    size = 1 if size == 0 else size\n",
    "    num_samples = len(samples)\n",
    "\n",
    "    while 1:  \n",
    "        shuffle(samples)\n",
    "        for offset in range(0, num_samples, size):\n",
    "            batch_samples = samples[offset:offset+size]\n",
    "            x = []\n",
    "            y = []\n",
    "            for filepath, measurement in batch_samples:\n",
    "                images, measurements = augment(filepath, measurement, train_flag)\n",
    "                x.extend(images)\n",
    "                y.extend(measurements)\n",
    "\n",
    "#             print (len(x), len(y))                \n",
    "            yield shuffle(np.array(x), np.array(y))\n",
    "#             yield (np.array(x), np.array(y))"
   ]
  },
  {
   "cell_type": "code",
   "execution_count": 103,
   "metadata": {},
   "outputs": [],
   "source": [
    "train_generator = generator(train_samples, train_flag=True, batch_size=60)\n",
    "validation_generator = generator(validation_samples, train_flag=False, batch_size=60)"
   ]
  },
  {
   "cell_type": "markdown",
   "metadata": {},
   "source": [
    "### Model"
   ]
  },
  {
   "cell_type": "code",
   "execution_count": 104,
   "metadata": {},
   "outputs": [],
   "source": [
    "from keras.models import Sequential\n",
    "from keras.layers import Dense, Dropout, Flatten, Lambda\n",
    "from keras.layers import Conv2D, MaxPooling2D, Cropping2D\n",
    "\n",
    "img_rows, img_cols, img_chls = x[1].shape"
   ]
  },
  {
   "cell_type": "markdown",
   "metadata": {},
   "source": [
    "### LeNet Architecture"
   ]
  },
  {
   "cell_type": "code",
   "execution_count": null,
   "metadata": {
    "collapsed": true
   },
   "outputs": [],
   "source": [
    "# keep_prob = 0.2\n",
    "# batch_size = 128 \n",
    "# epochs = 5\n",
    "\n",
    "# model = Sequential()\n",
    "# model.add(Lambda(lambda x: (x / 255.0) - 0.5, input_shape=x.shape[1:]))\n",
    "# model.add(Cropping2D(cropping=((70,25), (0,0))))\n",
    "# model.add(Conv2D(32, kernel_size=(3, 3), activation='relu'))\n",
    "# model.add(MaxPooling2D(pool_size=(2, 2)))\n",
    "# model.add(Conv2D(64, (3, 3), activation='relu'))\n",
    "# model.add(MaxPooling2D(pool_size=(2, 2)))\n",
    "# model.add(Dropout(keep_prob))\n",
    "# model.add(Flatten())\n",
    "# model.add(Dense(120))\n",
    "# model.add(Dropout(keep_prob))\n",
    "# model.add(Dense(80))\n",
    "# model.add(Dropout(keep_prob))\n",
    "# model.add(Dense(1))\n",
    "\n",
    "# model.compile(loss='mse',\n",
    "#               optimizer='adam'\n",
    "#              )\n",
    "\n",
    "# model.fit(x, y,\n",
    "#           batch_size=batch_size,\n",
    "#           validation_split = 0.2,\n",
    "#           epochs=epochs,\n",
    "#           verbose=1, \n",
    "#           shuffle=True\n",
    "#          )\n",
    "          \n",
    "# model.save('model_lenet.h5')"
   ]
  },
  {
   "cell_type": "markdown",
   "metadata": {
    "collapsed": true
   },
   "source": [
    "### NVIDIA Architecture"
   ]
  },
  {
   "cell_type": "code",
   "execution_count": 74,
   "metadata": {},
   "outputs": [
    {
     "name": "stdout",
     "output_type": "stream",
     "text": [
      "_________________________________________________________________\n",
      "Layer (type)                 Output Shape              Param #   \n",
      "=================================================================\n",
      "lambda_6 (Lambda)            (None, 160, 320, 3)       0         \n",
      "_________________________________________________________________\n",
      "cropping2d_6 (Cropping2D)    (None, 65, 320, 3)        0         \n",
      "_________________________________________________________________\n",
      "conv2d_26 (Conv2D)           (None, 31, 158, 32)       2432      \n",
      "_________________________________________________________________\n",
      "conv2d_27 (Conv2D)           (None, 14, 77, 64)        51264     \n",
      "_________________________________________________________________\n",
      "conv2d_28 (Conv2D)           (None, 5, 37, 48)         76848     \n",
      "_________________________________________________________________\n",
      "conv2d_29 (Conv2D)           (None, 3, 35, 96)         41568     \n",
      "_________________________________________________________________\n",
      "conv2d_30 (Conv2D)           (None, 1, 33, 128)        110720    \n",
      "_________________________________________________________________\n",
      "flatten_6 (Flatten)          (None, 4224)              0         \n",
      "_________________________________________________________________\n",
      "dense_21 (Dense)             (None, 128)               540800    \n",
      "_________________________________________________________________\n",
      "dropout_11 (Dropout)         (None, 128)               0         \n",
      "_________________________________________________________________\n",
      "dense_22 (Dense)             (None, 32)                4128      \n",
      "_________________________________________________________________\n",
      "dropout_12 (Dropout)         (None, 32)                0         \n",
      "_________________________________________________________________\n",
      "dense_23 (Dense)             (None, 8)                 264       \n",
      "_________________________________________________________________\n",
      "dense_24 (Dense)             (None, 1)                 9         \n",
      "=================================================================\n",
      "Total params: 828,033\n",
      "Trainable params: 828,033\n",
      "Non-trainable params: 0\n",
      "_________________________________________________________________\n"
     ]
    }
   ],
   "source": [
    "keep_prob = 0.2\n",
    "\n",
    "model = Sequential()\n",
    "model.add(Lambda(lambda x: (x / 255.0) - 0.5, input_shape=x.shape[1:]))\n",
    "model.add(Cropping2D(cropping=((70,25), (0,0))))\n",
    "model.add(Conv2D(32, kernel_size=(5, 5), strides=(2,2), activation='relu'))\n",
    "model.add(Conv2D(64, kernel_size=(5, 5), strides=(2,2), activation='relu'))\n",
    "model.add(Conv2D(48, kernel_size=(5, 5), strides=(2,2), activation='relu'))\n",
    "model.add(Conv2D(96, kernel_size=(3, 3), activation='relu'))\n",
    "model.add(Conv2D(128, kernel_size=(3, 3), activation='relu'))\n",
    "model.add(Flatten())\n",
    "model.add(Dense(128))\n",
    "model.add(Dropout(keep_prob))\n",
    "model.add(Dense(32))\n",
    "model.add(Dropout(keep_prob))\n",
    "model.add(Dense(8))\n",
    "model.add(Dense(1))\n",
    "\n",
    "model.summary()"
   ]
  },
  {
   "cell_type": "code",
   "execution_count": null,
   "metadata": {},
   "outputs": [
    {
     "name": "stderr",
     "output_type": "stream",
     "text": [
      "/usr/local/lib/python3.4/dist-packages/ipykernel/__main__.py:15: UserWarning: The semantics of the Keras 2 argument  `steps_per_epoch` is not the same as the Keras 1 argument `samples_per_epoch`. `steps_per_epoch` is the number of batches to draw from the generator at each epoch. Update your method calls accordingly.\n",
      "/usr/local/lib/python3.4/dist-packages/ipykernel/__main__.py:15: UserWarning: Update your `fit_generator` call to the Keras 2 API: `fit_generator(<generator..., steps_per_epoch=41184, epochs=4, validation_steps=4580, validation_data=<generator...)`\n"
     ]
    },
    {
     "name": "stdout",
     "output_type": "stream",
     "text": [
      "Epoch 1/4\n",
      "41184/41184 [==============================] - 28878s - loss: 0.0121 - val_loss: 0.0275\n",
      "Epoch 2/4\n",
      "32323/41184 [======================>.......] - ETA: 6006s - loss: 0.0046"
     ]
    }
   ],
   "source": [
    "epochs = 2\n",
    "\n",
    "model.compile(loss='mse',\n",
    "              optimizer='adam'\n",
    "             )\n",
    "\n",
    "# history_object = model.fit(x, y,\n",
    "#           batch_size=batch_size,\n",
    "# #           validation_split = 0.2,\n",
    "#           epochs=epochs,\n",
    "#           verbose=1, \n",
    "#           shuffle=True\n",
    "#          )\n",
    "\n",
    "history = model.fit_generator(train_generator, samples_per_epoch=len(train_samples)*12, nb_epoch=epochs, validation_data=validation_generator, nb_val_samples=len(validation_samples)*4)\n",
    "\n",
    "model.save('model_nvidia.h5')"
   ]
  },
  {
   "cell_type": "code",
   "execution_count": null,
   "metadata": {
    "collapsed": true
   },
   "outputs": [],
   "source": [
    "# keep_prob = 0.25\n",
    "# batch_size = 128 \n",
    "# epochs = 4\n",
    "\n",
    "# model = Sequential()\n",
    "# model.add(Lambda(lambda x: x / 127.5 - 1., input_shape=x.shape[1:]))\n",
    "# model.add(Cropping2D(cropping=((70,25),(0,0))))\n",
    "\n",
    "# model.add(Conv2D(32, kernel_size=(3, 3), activation='relu'))\n",
    "# # model.add(MaxPooling2D())\n",
    "# model.add(Conv2D(64, kernel_size=(3, 3), activation='relu'))\n",
    "# # model.add(MaxPooling2D())\n",
    "# model.add(Conv2D(128, kernel_size=(3, 3), activation='relu'))\n",
    "# # model.add(MaxPooling2D())\n",
    "# model.add(Conv2D(256, kernel_size=(3, 3), activation='relu'))\n",
    "# model.add(MaxPooling2D())\n",
    "# model.add(Conv2D(512, kernel_size=(3, 3), activation='relu'))\n",
    "# model.add(MaxPooling2D())\n",
    "\n",
    "# model.add(Flatten())\n",
    "# model.add(Dense(128))\n",
    "# model.add(Dense(32))\n",
    "# model.add(Dense(1))\n",
    "\n",
    "# model.compile(loss='mse',\n",
    "#               optimizer='adam'\n",
    "#              )\n",
    "\n",
    "# history_object = model.fit(x, y,\n",
    "#           batch_size=batch_size,\n",
    "#           validation_split = 0.2,\n",
    "#           epochs=epochs,\n",
    "#           verbose=1, \n",
    "#           shuffle=True\n",
    "#          )\n",
    "\n",
    "# model.save('model_vgg.h5')"
   ]
  },
  {
   "cell_type": "code",
   "execution_count": null,
   "metadata": {
    "collapsed": true
   },
   "outputs": [],
   "source": [
    "from keras.models import Model\n",
    "\n",
    "### print the keys contained in the history object\n",
    "print(history_object.history.keys())\n",
    "\n",
    "### plot the training and validation loss for each epoch\n",
    "plt.plot(history_object.history['loss'])\n",
    "plt.plot(history_object.history['val_loss'])\n",
    "plt.title('model mean squared error loss')\n",
    "plt.ylabel('mean squared error loss')\n",
    "plt.xlabel('epoch')\n",
    "plt.legend(['training set', 'validation set'], loc='upper right')\n",
    "plt.show()"
   ]
  },
  {
   "cell_type": "code",
   "execution_count": null,
   "metadata": {
    "collapsed": true
   },
   "outputs": [],
   "source": []
  }
 ],
 "metadata": {
  "hide_input": false,
  "kernelspec": {
   "display_name": "Python 3",
   "language": "python",
   "name": "python3"
  },
  "language_info": {
   "codemirror_mode": {
    "name": "ipython",
    "version": 3
   },
   "file_extension": ".py",
   "mimetype": "text/x-python",
   "name": "python",
   "nbconvert_exporter": "python",
   "pygments_lexer": "ipython3",
   "version": "3.4.3"
  },
  "widgets": {
   "state": {},
   "version": "1.1.2"
  }
 },
 "nbformat": 4,
 "nbformat_minor": 2
}
