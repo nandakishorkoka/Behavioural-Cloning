{
 "cells": [
  {
   "cell_type": "markdown",
   "metadata": {},
   "source": [
    "# Self-Driving Car ND : P3 - Behavioural Cloning "
   ]
  },
  {
   "cell_type": "markdown",
   "metadata": {},
   "source": [
    "## The below code building two different ConvNet to predict steering angle based on camera inputs. The first is a ConvNet based on LeNet architecture and the second is based on the NVIDIA model for autonomous driving. "
   ]
  },
  {
   "cell_type": "code",
   "execution_count": 4,
   "metadata": {},
   "outputs": [
    {
     "data": {
      "text/plain": [
       "'2.0.4'"
      ]
     },
     "execution_count": 4,
     "metadata": {},
     "output_type": "execute_result"
    }
   ],
   "source": [
    "import keras\n",
    "keras.__version__"
   ]
  },
  {
   "cell_type": "code",
   "execution_count": 5,
   "metadata": {
    "collapsed": true
   },
   "outputs": [],
   "source": [
    "import matplotlib.pyplot as plt\n",
    "%matplotlib inline\n",
    "plt.style.use('ggplot')"
   ]
  },
  {
   "cell_type": "code",
   "execution_count": 6,
   "metadata": {
    "collapsed": true
   },
   "outputs": [],
   "source": [
    "import csv \n",
    "import cv2 \n",
    "import numpy as np\n",
    "from sklearn.model_selection import train_test_split\n",
    "from sklearn.utils import shuffle"
   ]
  },
  {
   "cell_type": "markdown",
   "metadata": {},
   "source": [
    "### Prepare the data"
   ]
  },
  {
   "cell_type": "code",
   "execution_count": 7,
   "metadata": {
    "collapsed": true
   },
   "outputs": [],
   "source": [
    "def process_image(filepath): \n",
    "    image = cv2.imread(filepath)\n",
    "    image = cv2.cvtColor(image, cv2.COLOR_BGR2RGB)\n",
    "    return image "
   ]
  },
  {
   "cell_type": "code",
   "execution_count": 8,
   "metadata": {
    "collapsed": true
   },
   "outputs": [],
   "source": [
    "def load_data(paths): \n",
    "    \n",
    "    filenames = [] \n",
    "    measurements = [] \n",
    "    \n",
    "    for path in paths: \n",
    "        image_path = path + 'IMG/'\n",
    "        with open(path + 'driving_log.csv') as csvfile: \n",
    "            reader = csv.reader(csvfile)\n",
    "            for line in reader: \n",
    "                steering = line[3].strip()\n",
    "                measurement = float(steering)\n",
    "                center_img = line[0].split('/')[-1]\n",
    "                filenames.append(image_path + center_img)\n",
    "                measurements.append(measurement)\n",
    "            \n",
    "    ids = range(0, len(filenames))\n",
    "    return (ids, filenames, measurements)"
   ]
  },
  {
   "cell_type": "code",
   "execution_count": 9,
   "metadata": {},
   "outputs": [
    {
     "name": "stdout",
     "output_type": "stream",
     "text": [
      "0 data5/IMG/center_2016_12_01_13_30_48_287.jpg 0.0\n"
     ]
    }
   ],
   "source": [
    "paths = ['data5/', 'data2/', 'data3/']\n",
    "data = load_data(paths)\n",
    "print (data[0][0], data[1][0], data[2][0])"
   ]
  },
  {
   "cell_type": "code",
   "execution_count": 10,
   "metadata": {},
   "outputs": [
    {
     "data": {
      "image/png": "[encoded data removed]",
      "text/plain": [
       "<matplotlib.figure.Figure at 0x7fa396fc4cf8>"
      ]
     },
     "metadata": {},
     "output_type": "display_data"
    }
   ],
   "source": [
    "y_orig = np.array(data[2])\n",
    "plt.hist(y_orig, bins=50)\n",
    "plt.show()"
   ]
  },
  {
   "cell_type": "code",
   "execution_count": 11,
   "metadata": {
    "collapsed": true
   },
   "outputs": [],
   "source": [
    "def balanced_subsample(data,size):\n",
    "\n",
    "    x = np.array(data[0])\n",
    "    y = np.array(data[2])\n",
    "    class_xs = []\n",
    "\n",
    "    for yi in np.unique(y):\n",
    "        elems = x[(y == yi)]\n",
    "        class_xs.append((yi, elems))\n",
    "\n",
    "    xs = []\n",
    "    ys = []\n",
    "\n",
    "    for ci,this_xs in class_xs:\n",
    "        num = len(this_xs) \n",
    "        if num > size:\n",
    "            np.random.shuffle(this_xs)\n",
    "            x_ = this_xs[:size]\n",
    "            y_ = np.empty(size)\n",
    "            y_.fill(ci)\n",
    "        else: \n",
    "            x_ = this_xs[:]\n",
    "            y_ = np.empty(num)\n",
    "            y_.fill(ci)\n",
    "            \n",
    "        xs.append(x_)\n",
    "        ys.append(y_)\n",
    "\n",
    "    xs = np.concatenate(xs)\n",
    "    ys = np.concatenate(ys)\n",
    "\n",
    "    return xs,ys"
   ]
  },
  {
   "cell_type": "code",
   "execution_count": 12,
   "metadata": {
    "collapsed": true
   },
   "outputs": [],
   "source": [
    "x_sample,y_sample = balanced_subsample(data, size=250)\n",
    "f_sample = [data[1][i] for i in x_sample]"
   ]
  },
  {
   "cell_type": "code",
   "execution_count": 13,
   "metadata": {},
   "outputs": [
    {
     "data": {
      "image/png": "[encoded data removed]",
      "text/plain": [
       "<matplotlib.figure.Figure at 0x7fa396fd7d68>"
      ]
     },
     "metadata": {},
     "output_type": "display_data"
    }
   ],
   "source": [
    "plt.hist(y_sample, bins=50)\n",
    "plt.show()"
   ]
  },
  {
   "cell_type": "code",
   "execution_count": 14,
   "metadata": {
    "collapsed": true
   },
   "outputs": [],
   "source": [
    "def load_images(f_sample, y_sample):\n",
    "    x = []\n",
    "    y = []\n",
    "\n",
    "    for filepath, yi in zip(f_sample, y_sample): \n",
    "        image = process_image(filepath)\n",
    "        x.append(image)\n",
    "        y.append(yi)\n",
    "        image_flipped = np.fliplr(image)\n",
    "        yi_flipped = -yi\n",
    "        x.append(image_flipped)\n",
    "        y.append(yi_flipped)\n",
    "\n",
    "    x = np.array(x)\n",
    "    y = np.array(y)\n",
    "    return x,y"
   ]
  },
  {
   "cell_type": "code",
   "execution_count": 15,
   "metadata": {},
   "outputs": [
    {
     "data": {
      "image/png": "[encoded data removed]",
      "text/plain": [
       "<matplotlib.figure.Figure at 0x7fa394c865f8>"
      ]
     },
     "metadata": {},
     "output_type": "display_data"
    }
   ],
   "source": [
    "x,y = load_images(f_sample, y_sample)\n",
    "plt.hist(y, bins=50)\n",
    "plt.show()"
   ]
  },
  {
   "cell_type": "code",
   "execution_count": 16,
   "metadata": {},
   "outputs": [
    {
     "name": "stdout",
     "output_type": "stream",
     "text": [
      "3607 1203\n"
     ]
    }
   ],
   "source": [
    "samples = [s for s in zip(f_sample, y_sample)]\n",
    "train_samples, validation_samples = train_test_split(samples, test_size=0.25)\n",
    "print (len(train_samples), len(validation_samples))"
   ]
  },
  {
   "cell_type": "code",
   "execution_count": 17,
   "metadata": {
    "collapsed": true
   },
   "outputs": [],
   "source": [
    "def augment(filepath, measurement, train=True): \n",
    "    \n",
    "    images = [] \n",
    "    measurements = [] \n",
    "    \n",
    "    filepath_right = filepath.replace(\"center\", \"right\")\n",
    "    \n",
    "    image = process_image(filepath)\n",
    "    images.append(image)\n",
    "    measurements.append(measurement)\n",
    "    \n",
    "    image_flipped = np.fliplr(image)\n",
    "    measurement_flipped = -measurement\n",
    "    images.append(image_flipped)\n",
    "    measurements.append(measurement_flipped)\n",
    "    \n",
    "    image_hsv = hsv = cv2.cvtColor(image, cv2.COLOR_BGR2HSV)\n",
    "    val = np.random.uniform(0.2,0.8)\n",
    "    image_hsv[:,:,2] = image_hsv[:,:,2]*val\n",
    "    images.append(image_hsv)\n",
    "    measurements.append(measurement)\n",
    "\n",
    "    image_flipped_hsv = cv2.cvtColor(image_flipped, cv2.COLOR_BGR2HSV)\n",
    "    val = np.random.uniform(0.2,0.8)\n",
    "    image_flipped_hsv[:,:,2] = image_flipped_hsv[:,:,2]*val\n",
    "    images.append(image_flipped_hsv)\n",
    "    measurements.append(measurement_flipped)    \n",
    "    \n",
    "    if train: \n",
    "        filepath_left = filepath.replace(\"center\", \"left\")\n",
    "        image = process_image(filepath_left)\n",
    "        images.append(image)\n",
    "        measurements.append(measurement)\n",
    "\n",
    "        image_flipped = np.fliplr(image)\n",
    "        measurement_flipped = -measurement\n",
    "        images.append(image_flipped)\n",
    "        measurements.append(measurement_flipped)\n",
    "\n",
    "        image_hsv = hsv = cv2.cvtColor(image, cv2.COLOR_BGR2HSV)\n",
    "        val = np.random.uniform(0.2,0.8)\n",
    "        image_hsv[:,:,2] = image_hsv[:,:,2]*val\n",
    "        images.append(image_hsv)\n",
    "        measurements.append(measurement)\n",
    "\n",
    "        image_flipped_hsv = cv2.cvtColor(image_flipped, cv2.COLOR_BGR2HSV)\n",
    "        val = np.random.uniform(0.2,0.8)\n",
    "        image_flipped_hsv[:,:,2] = image_flipped_hsv[:,:,2]*val\n",
    "        images.append(image_flipped_hsv)\n",
    "        measurements.append(measurement_flipped)\n",
    "        \n",
    "        filepath_right = filepath.replace(\"center\", \"right\")\n",
    "        image = process_image(filepath_right)\n",
    "        images.append(image)\n",
    "        measurements.append(measurement)\n",
    "\n",
    "        image_flipped = np.fliplr(image)\n",
    "        measurement_flipped = -measurement\n",
    "        images.append(image_flipped)\n",
    "        measurements.append(measurement_flipped)\n",
    "\n",
    "        image_hsv = hsv = cv2.cvtColor(image, cv2.COLOR_BGR2HSV)\n",
    "        val = np.random.uniform(0.2,0.8)\n",
    "        image_hsv[:,:,2] = image_hsv[:,:,2]*val\n",
    "        images.append(image_hsv)\n",
    "        measurements.append(measurement)\n",
    "\n",
    "        image_flipped_hsv = cv2.cvtColor(image_flipped, cv2.COLOR_BGR2HSV)\n",
    "        val = np.random.uniform(0.2,0.8)\n",
    "        image_flipped_hsv[:,:,2] = image_flipped_hsv[:,:,2]*val\n",
    "        images.append(image_flipped_hsv)\n",
    "        measurements.append(measurement_flipped)        \n",
    "    \n",
    "    return (images, measurements)"
   ]
  },
  {
   "cell_type": "code",
   "execution_count": 18,
   "metadata": {
    "collapsed": true
   },
   "outputs": [],
   "source": [
    "def generator(samples, train_flag, batch_size=64):\n",
    "    \n",
    "    if train_flag: \n",
    "        size = int(batch_size / 12) # augment() produces 12 images for every image  \n",
    "    else: \n",
    "        size = int(batch_size / 4) \n",
    "    \n",
    "#     print (size) \n",
    "        \n",
    "    size = 1 if size == 0 else size\n",
    "    num_samples = len(samples)\n",
    "\n",
    "    while 1:  \n",
    "        shuffle(samples)\n",
    "        for offset in range(0, num_samples, size):\n",
    "            batch_samples = samples[offset:offset+size]\n",
    "            x = []\n",
    "            y = []\n",
    "            for filepath, measurement in batch_samples:\n",
    "                images, measurements = augment(filepath, measurement, train_flag)\n",
    "                x.extend(images)\n",
    "                y.extend(measurements)\n",
    "\n",
    "#             print (len(x), len(y))                \n",
    "            yield shuffle(np.array(x), np.array(y))\n",
    "#             yield (np.array(x), np.array(y))"
   ]
  },
  {
   "cell_type": "code",
   "execution_count": 19,
   "metadata": {
    "collapsed": true
   },
   "outputs": [],
   "source": [
    "train_generator = generator(train_samples, train_flag=True, batch_size=60)\n",
    "validation_generator = generator(validation_samples, train_flag=False, batch_size=60)"
   ]
  },
  {
   "cell_type": "markdown",
   "metadata": {},
   "source": [
    "### Model"
   ]
  },
  {
   "cell_type": "code",
   "execution_count": 20,
   "metadata": {
    "collapsed": true
   },
   "outputs": [],
   "source": [
    "from keras.models import Sequential\n",
    "from keras.layers import Dense, Dropout, Flatten, Lambda\n",
    "from keras.layers import Conv2D, MaxPooling2D, Cropping2D\n",
    "\n",
    "img_rows, img_cols, img_chls = x[1].shape"
   ]
  },
  {
   "cell_type": "markdown",
   "metadata": {},
   "source": [
    "### LeNet Architecture"
   ]
  },
  {
   "cell_type": "code",
   "execution_count": null,
   "metadata": {
    "collapsed": true
   },
   "outputs": [],
   "source": [
    "# keep_prob = 0.2\n",
    "# batch_size = 128 \n",
    "# epochs = 5\n",
    "\n",
    "# model = Sequential()\n",
    "# model.add(Lambda(lambda x: (x / 255.0) - 0.5, input_shape=x.shape[1:]))\n",
    "# model.add(Cropping2D(cropping=((70,25), (0,0))))\n",
    "# model.add(Conv2D(32, kernel_size=(3, 3), activation='relu'))\n",
    "# model.add(MaxPooling2D(pool_size=(2, 2)))\n",
    "# model.add(Conv2D(64, (3, 3), activation='relu'))\n",
    "# model.add(MaxPooling2D(pool_size=(2, 2)))\n",
    "# model.add(Dropout(keep_prob))\n",
    "# model.add(Flatten())\n",
    "# model.add(Dense(120))\n",
    "# model.add(Dropout(keep_prob))\n",
    "# model.add(Dense(80))\n",
    "# model.add(Dropout(keep_prob))\n",
    "# model.add(Dense(1))\n",
    "\n",
    "# model.compile(loss='mse',\n",
    "#               optimizer='adam'\n",
    "#              )\n",
    "\n",
    "# model.fit(x, y,\n",
    "#           batch_size=batch_size,\n",
    "#           validation_split = 0.2,\n",
    "#           epochs=epochs,\n",
    "#           verbose=1, \n",
    "#           shuffle=True\n",
    "#          )\n",
    "          \n",
    "# model.save('model_lenet.h5')"
   ]
  },
  {
   "cell_type": "markdown",
   "metadata": {
    "collapsed": true
   },
   "source": [
    "### NVIDIA Architecture"
   ]
  },
  {
   "cell_type": "code",
   "execution_count": 21,
   "metadata": {},
   "outputs": [
    {
     "name": "stdout",
     "output_type": "stream",
     "text": [
      "_________________________________________________________________\n",
      "Layer (type)                 Output Shape              Param #   \n",
      "=================================================================\n",
      "lambda_1 (Lambda)            (None, 160, 320, 3)       0         \n",
      "_________________________________________________________________\n",
      "cropping2d_1 (Cropping2D)    (None, 65, 320, 3)        0         \n",
      "_________________________________________________________________\n",
      "conv2d_1 (Conv2D)            (None, 31, 158, 32)       2432      \n",
      "_________________________________________________________________\n",
      "dropout_1 (Dropout)          (None, 31, 158, 32)       0         \n",
      "_________________________________________________________________\n",
      "conv2d_2 (Conv2D)            (None, 14, 77, 64)        51264     \n",
      "_________________________________________________________________\n",
      "dropout_2 (Dropout)          (None, 14, 77, 64)        0         \n",
      "_________________________________________________________________\n",
      "conv2d_3 (Conv2D)            (None, 5, 37, 48)         76848     \n",
      "_________________________________________________________________\n",
      "conv2d_4 (Conv2D)            (None, 3, 35, 96)         41568     \n",
      "_________________________________________________________________\n",
      "conv2d_5 (Conv2D)            (None, 1, 33, 128)        110720    \n",
      "_________________________________________________________________\n",
      "flatten_1 (Flatten)          (None, 4224)              0         \n",
      "_________________________________________________________________\n",
      "dense_1 (Dense)              (None, 64)                270400    \n",
      "_________________________________________________________________\n",
      "dropout_3 (Dropout)          (None, 64)                0         \n",
      "_________________________________________________________________\n",
      "dense_2 (Dense)              (None, 32)                2080      \n",
      "_________________________________________________________________\n",
      "dropout_4 (Dropout)          (None, 32)                0         \n",
      "_________________________________________________________________\n",
      "dense_3 (Dense)              (None, 8)                 264       \n",
      "_________________________________________________________________\n",
      "dense_4 (Dense)              (None, 1)                 9         \n",
      "=================================================================\n",
      "Total params: 555,585\n",
      "Trainable params: 555,585\n",
      "Non-trainable params: 0\n",
      "_________________________________________________________________\n"
     ]
    }
   ],
   "source": [
    "keep_prob = 0.4\n",
    "\n",
    "model = Sequential()\n",
    "model.add(Lambda(lambda x: (x / 255.0) - 0.5, input_shape=x.shape[1:]))\n",
    "model.add(Cropping2D(cropping=((70,25), (0,0))))\n",
    "model.add(Conv2D(32, kernel_size=(5, 5), strides=(2,2), activation='relu'))\n",
    "model.add(Dropout(keep_prob))\n",
    "model.add(Conv2D(64, kernel_size=(5, 5), strides=(2,2), activation='relu'))\n",
    "model.add(Dropout(keep_prob))\n",
    "model.add(Conv2D(48, kernel_size=(5, 5), strides=(2,2), activation='relu'))\n",
    "model.add(Conv2D(96, kernel_size=(3, 3), activation='relu'))\n",
    "model.add(Conv2D(128, kernel_size=(3, 3), activation='relu'))\n",
    "model.add(Flatten())\n",
    "model.add(Dense(64))\n",
    "model.add(Dropout(keep_prob))\n",
    "model.add(Dense(32))\n",
    "model.add(Dropout(keep_prob))\n",
    "model.add(Dense(8))\n",
    "model.add(Dense(1))\n",
    "\n",
    "model.summary()"
   ]
  },
  {
   "cell_type": "code",
   "execution_count": 22,
   "metadata": {},
   "outputs": [
    {
     "name": "stderr",
     "output_type": "stream",
     "text": [
      "/usr/local/lib/python3.4/dist-packages/ipykernel/__main__.py:10: UserWarning: The semantics of the Keras 2 argument  `steps_per_epoch` is not the same as the Keras 1 argument `samples_per_epoch`. `steps_per_epoch` is the number of batches to draw from the generator at each epoch. Update your method calls accordingly.\n",
      "/usr/local/lib/python3.4/dist-packages/ipykernel/__main__.py:10: UserWarning: Update your `fit_generator` call to the Keras 2 API: `fit_generator(<generator..., steps_per_epoch=3607, callbacks=[<keras.ca..., validation_data=<generator..., validation_steps=1203, epochs=20)`\n"
     ]
    },
    {
     "name": "stdout",
     "output_type": "stream",
     "text": [
      "Epoch 1/20\n",
      "3606/3607 [============================>.] - ETA: 0s - loss: 0.0267 - mean_squared_error: 0.0267Epoch 00000: val_loss improved from inf to 0.02083, saving model to model_nvidia-00-0.0208.h5\n",
      "3607/3607 [==============================] - 568s - loss: 0.0267 - mean_squared_error: 0.0267 - val_loss: 0.0208 - val_mean_squared_error: 0.0208\n",
      "Epoch 2/20\n",
      "3606/3607 [============================>.] - ETA: 0s - loss: 0.0245 - mean_squared_error: 0.0245Epoch 00001: val_loss improved from 0.02083 to 0.01995, saving model to model_nvidia-01-0.0199.h5\n",
      "3607/3607 [==============================] - 564s - loss: 0.0245 - mean_squared_error: 0.0245 - val_loss: 0.0199 - val_mean_squared_error: 0.0199\n",
      "Epoch 3/20\n",
      "3606/3607 [============================>.] - ETA: 0s - loss: 0.0238 - mean_squared_error: 0.0238Epoch 00002: val_loss improved from 0.01995 to 0.01956, saving model to model_nvidia-02-0.0196.h5\n",
      "3607/3607 [==============================] - 563s - loss: 0.0238 - mean_squared_error: 0.0238 - val_loss: 0.0196 - val_mean_squared_error: 0.0196\n",
      "Epoch 4/20\n",
      "3606/3607 [============================>.] - ETA: 0s - loss: 0.0230 - mean_squared_error: 0.0230Epoch 00003: val_loss improved from 0.01956 to 0.01905, saving model to model_nvidia-03-0.0191.h5\n",
      "3607/3607 [==============================] - 564s - loss: 0.0230 - mean_squared_error: 0.0230 - val_loss: 0.0191 - val_mean_squared_error: 0.0191\n",
      "Epoch 5/20\n",
      "3606/3607 [============================>.] - ETA: 0s - loss: 0.0224 - mean_squared_error: 0.0224Epoch 00004: val_loss improved from 0.01905 to 0.01888, saving model to model_nvidia-04-0.0189.h5\n",
      "3607/3607 [==============================] - 561s - loss: 0.0224 - mean_squared_error: 0.0224 - val_loss: 0.0189 - val_mean_squared_error: 0.0189\n",
      "Epoch 6/20\n",
      "3606/3607 [============================>.] - ETA: 0s - loss: 0.0217 - mean_squared_error: 0.0217Epoch 00005: val_loss improved from 0.01888 to 0.01847, saving model to model_nvidia-05-0.0185.h5\n",
      "3607/3607 [==============================] - 557s - loss: 0.0217 - mean_squared_error: 0.0217 - val_loss: 0.0185 - val_mean_squared_error: 0.0185\n",
      "Epoch 7/20\n",
      "3606/3607 [============================>.] - ETA: 0s - loss: 0.0211 - mean_squared_error: 0.0211Epoch 00006: val_loss improved from 0.01847 to 0.01838, saving model to model_nvidia-06-0.0184.h5\n",
      "3607/3607 [==============================] - 558s - loss: 0.0211 - mean_squared_error: 0.0211 - val_loss: 0.0184 - val_mean_squared_error: 0.0184\n",
      "Epoch 8/20\n",
      "3606/3607 [============================>.] - ETA: 0s - loss: 0.0205 - mean_squared_error: 0.0205Epoch 00007: val_loss did not improve\n",
      "3607/3607 [==============================] - 558s - loss: 0.0205 - mean_squared_error: 0.0205 - val_loss: 0.0188 - val_mean_squared_error: 0.0188\n",
      "Epoch 9/20\n",
      "3606/3607 [============================>.] - ETA: 0s - loss: 0.0199 - mean_squared_error: 0.0199Epoch 00008: val_loss did not improve\n",
      "3607/3607 [==============================] - 558s - loss: 0.0199 - mean_squared_error: 0.0199 - val_loss: 0.0187 - val_mean_squared_error: 0.0187\n",
      "Epoch 10/20\n",
      "3606/3607 [============================>.] - ETA: 0s - loss: 0.0195 - mean_squared_error: 0.0195Epoch 00009: val_loss did not improve\n",
      "3607/3607 [==============================] - 558s - loss: 0.0195 - mean_squared_error: 0.0195 - val_loss: 0.0188 - val_mean_squared_error: 0.0188\n",
      "Epoch 11/20\n",
      "3606/3607 [============================>.] - ETA: 0s - loss: 0.0191 - mean_squared_error: 0.0191Epoch 00010: val_loss did not improve\n",
      "3607/3607 [==============================] - 558s - loss: 0.0191 - mean_squared_error: 0.0191 - val_loss: 0.0194 - val_mean_squared_error: 0.0194\n",
      "Epoch 12/20\n",
      "3606/3607 [============================>.] - ETA: 0s - loss: 0.0187 - mean_squared_error: 0.0187Epoch 00011: val_loss did not improve\n",
      "3607/3607 [==============================] - 557s - loss: 0.0187 - mean_squared_error: 0.0187 - val_loss: 0.0184 - val_mean_squared_error: 0.0184\n",
      "Epoch 13/20\n",
      "3606/3607 [============================>.] - ETA: 0s - loss: 0.0185 - mean_squared_error: 0.0185Epoch 00012: val_loss did not improve\n",
      "3607/3607 [==============================] - 559s - loss: 0.0185 - mean_squared_error: 0.0185 - val_loss: 0.0192 - val_mean_squared_error: 0.0192\n",
      "Epoch 14/20\n",
      "3606/3607 [============================>.] - ETA: 0s - loss: 0.0180 - mean_squared_error: 0.0180Epoch 00013: val_loss did not improve\n",
      "3607/3607 [==============================] - 557s - loss: 0.0180 - mean_squared_error: 0.0180 - val_loss: 0.0195 - val_mean_squared_error: 0.0195\n",
      "Epoch 15/20\n",
      "3606/3607 [============================>.] - ETA: 0s - loss: 0.0177 - mean_squared_error: 0.0177Epoch 00014: val_loss did not improve\n",
      "3607/3607 [==============================] - 558s - loss: 0.0177 - mean_squared_error: 0.0177 - val_loss: 0.0190 - val_mean_squared_error: 0.0190\n",
      "Epoch 16/20\n",
      "3606/3607 [============================>.] - ETA: 0s - loss: 0.0173 - mean_squared_error: 0.0173Epoch 00015: val_loss did not improve\n",
      "3607/3607 [==============================] - 558s - loss: 0.0173 - mean_squared_error: 0.0173 - val_loss: 0.0187 - val_mean_squared_error: 0.0187\n",
      "Epoch 17/20\n",
      "3606/3607 [============================>.] - ETA: 0s - loss: 0.0173 - mean_squared_error: 0.0173Epoch 00016: val_loss did not improve\n",
      "3607/3607 [==============================] - 558s - loss: 0.0173 - mean_squared_error: 0.0173 - val_loss: 0.0189 - val_mean_squared_error: 0.0189\n",
      "Epoch 18/20\n",
      "3606/3607 [============================>.] - ETA: 0s - loss: 0.0169 - mean_squared_error: 0.0169Epoch 00017: val_loss did not improve\n",
      "3607/3607 [==============================] - 559s - loss: 0.0169 - mean_squared_error: 0.0169 - val_loss: 0.0189 - val_mean_squared_error: 0.0189\n",
      "Epoch 19/20\n",
      "3606/3607 [============================>.] - ETA: 0s - loss: 0.0167 - mean_squared_error: 0.0167Epoch 00018: val_loss did not improve\n",
      "3607/3607 [==============================] - 557s - loss: 0.0167 - mean_squared_error: 0.0167 - val_loss: 0.0197 - val_mean_squared_error: 0.0197\n",
      "Epoch 20/20\n",
      "3606/3607 [============================>.] - ETA: 0s - loss: 0.0163 - mean_squared_error: 0.0163Epoch 00019: val_loss did not improve\n",
      "3607/3607 [==============================] - 557s - loss: 0.0163 - mean_squared_error: 0.0163 - val_loss: 0.0207 - val_mean_squared_error: 0.0207\n"
     ]
    }
   ],
   "source": [
    "from keras.callbacks import ModelCheckpoint\n",
    "epochs = 20\n",
    "\n",
    "model.compile(loss='mse', optimizer='adam', metrics=['mse'])\n",
    "\n",
    "filepath=\"model_nvidia-{epoch:02d}-{val_loss:.4f}.h5\"\n",
    "checkpoint = ModelCheckpoint(filepath,  monitor='val_loss', verbose=1, save_best_only=True, mode='min', period=1)\n",
    "callbacks_list = [checkpoint]\n",
    "\n",
    "history = model.fit_generator(train_generator, samples_per_epoch=len(train_samples), nb_epoch=epochs, validation_data=validation_generator, nb_val_samples=len(validation_samples), callbacks=callbacks_list)\n",
    "\n",
    "model.save('model_nvidia.h5')"
   ]
  },
  {
   "cell_type": "code",
   "execution_count": null,
   "metadata": {
    "collapsed": true
   },
   "outputs": [],
   "source": [
    "# keep_prob = 0.25\n",
    "# batch_size = 128 \n",
    "# epochs = 4\n",
    "\n",
    "# model = Sequential()\n",
    "# model.add(Lambda(lambda x: x / 127.5 - 1., input_shape=x.shape[1:]))\n",
    "# model.add(Cropping2D(cropping=((70,25),(0,0))))\n",
    "\n",
    "# model.add(Conv2D(32, kernel_size=(3, 3), activation='relu'))\n",
    "# # model.add(MaxPooling2D())\n",
    "# model.add(Conv2D(64, kernel_size=(3, 3), activation='relu'))\n",
    "# # model.add(MaxPooling2D())\n",
    "# model.add(Conv2D(128, kernel_size=(3, 3), activation='relu'))\n",
    "# # model.add(MaxPooling2D())\n",
    "# model.add(Conv2D(256, kernel_size=(3, 3), activation='relu'))\n",
    "# model.add(MaxPooling2D())\n",
    "# model.add(Conv2D(512, kernel_size=(3, 3), activation='relu'))\n",
    "# model.add(MaxPooling2D())\n",
    "\n",
    "# model.add(Flatten())\n",
    "# model.add(Dense(128))\n",
    "# model.add(Dense(32))\n",
    "# model.add(Dense(1))\n",
    "\n",
    "# model.compile(loss='mse',\n",
    "#               optimizer='adam'\n",
    "#              )\n",
    "\n",
    "# history_object = model.fit(x, y,\n",
    "#           batch_size=batch_size,\n",
    "#           validation_split = 0.2,\n",
    "#           epochs=epochs,\n",
    "#           verbose=1, \n",
    "#           shuffle=True\n",
    "#          )\n",
    "\n",
    "# model.save('model_vgg.h5')"
   ]
  },
  {
   "cell_type": "code",
   "execution_count": 23,
   "metadata": {},
   "outputs": [
    {
     "name": "stdout",
     "output_type": "stream",
     "text": [
      "dict_keys(['loss', 'val_loss', 'val_mean_squared_error', 'mean_squared_error'])\n"
     ]
    },
    {
     "data": {
      "image/png": "[encoded data removed]",
      "text/plain": [
       "<matplotlib.figure.Figure at 0x7fa390076d68>"
      ]
     },
     "metadata": {},
     "output_type": "display_data"
    }
   ],
   "source": [
    "from keras.models import Model\n",
    "\n",
    "### print the keys contained in the history object\n",
    "print(history.history.keys())\n",
    "\n",
    "### plot the training and validation loss for each epoch\n",
    "plt.plot(history.history['loss'])\n",
    "plt.plot(history.history['val_loss'])\n",
    "plt.title('model mean squared error loss')\n",
    "plt.ylabel('mean squared error loss')\n",
    "plt.xlabel('epoch')\n",
    "plt.legend(['training set', 'validation set'], loc='upper right')\n",
    "plt.show()"
   ]
  },
  {
   "cell_type": "code",
   "execution_count": null,
   "metadata": {
    "collapsed": true
   },
   "outputs": [],
   "source": []
  }
 ],
 "metadata": {
  "hide_input": false,
  "kernelspec": {
   "display_name": "Python 3",
   "language": "python",
   "name": "python3"
  },
  "language_info": {
   "codemirror_mode": {
    "name": "ipython",
    "version": 3
   },
   "file_extension": ".py",
   "mimetype": "text/x-python",
   "name": "python",
   "nbconvert_exporter": "python",
   "pygments_lexer": "ipython3",
   "version": "3.5.2"
  },
  "widgets": {
   "state": {},
   "version": "1.1.2"
  }
 },
 "nbformat": 4,
 "nbformat_minor": 2
}
