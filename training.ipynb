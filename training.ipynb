{
 "cells": [
  {
   "cell_type": "markdown",
   "metadata": {},
   "source": [
    "# Self-Driving Car ND : P3 - Behavioural Cloning "
   ]
  },
  {
   "cell_type": "markdown",
   "metadata": {},
   "source": [
    "## The below code building two different ConvNet to predict steering angle based on camera inputs. The first is a ConvNet based on LeNet architecture and the second is based on the NVIDIA model for autonomous driving. "
   ]
  },
  {
   "cell_type": "code",
   "execution_count": 1,
   "metadata": {
    "collapsed": true
   },
   "outputs": [],
   "source": [
    "import matplotlib.pyplot as plt\n",
    "%matplotlib inline\n",
    "plt.style.use('ggplot')"
   ]
  },
  {
   "cell_type": "markdown",
   "metadata": {},
   "source": [
    "### Prepare the data"
   ]
  },
  {
   "cell_type": "code",
   "execution_count": 2,
   "metadata": {
    "collapsed": true
   },
   "outputs": [],
   "source": [
    "def process_image(filepath): \n",
    "    image = cv2.imread(filepath)\n",
    "    image = cv2.cvtColor(image, cv2.COLOR_BGR2RGB)\n",
    "    return image "
   ]
  },
  {
   "cell_type": "code",
   "execution_count": 3,
   "metadata": {
    "collapsed": true
   },
   "outputs": [],
   "source": [
    "import csv \n",
    "import cv2 \n",
    "import numpy as np\n",
    "\n",
    "paths = ['data/', 'data2/', 'data3/']\n",
    "filenames = [] \n",
    "measurements = [] \n",
    "for path in paths: \n",
    "    image_path = path + 'IMG/'\n",
    "    ids = []\n",
    "    with open(path + 'driving_log.csv') as csvfile: \n",
    "        reader = csv.reader(csvfile)\n",
    "        for line in reader: \n",
    "\n",
    "            correction = 0.25 \n",
    "            steering = line[3]\n",
    "            measurement = float(steering)\n",
    "            center_img = line[0].split('/')[-1]\n",
    "            left_img = line[1].split('/')[-1]\n",
    "            right_img = line[2].split('/')[-1]\n",
    "\n",
    "            filenames.extend([image_path + center_img, image_path + left_img, image_path + right_img])\n",
    "            measurements.extend([measurement, -(measurement + correction), -(measurement - correction)])\n",
    "\n",
    "x = np.array(range(0, len(filenames)))\n",
    "y = np.array(measurements)"
   ]
  },
  {
   "cell_type": "code",
   "execution_count": 4,
   "metadata": {},
   "outputs": [
    {
     "data": {
      "image/png": "[encoded data removed]",
      "text/plain": [
       "<matplotlib.figure.Figure at 0x7f873c6d4e10>"
      ]
     },
     "metadata": {},
     "output_type": "display_data"
    }
   ],
   "source": [
    "plt.hist(y, bins=100)\n",
    "plt.show()"
   ]
  },
  {
   "cell_type": "code",
   "execution_count": 5,
   "metadata": {
    "collapsed": true
   },
   "outputs": [],
   "source": [
    "def balanced_subsample(x,y,size):\n",
    "\n",
    "    class_xs = []\n",
    "\n",
    "    for yi in np.unique(y):\n",
    "        elems = x[(y == yi)]\n",
    "        class_xs.append((yi, elems))\n",
    "\n",
    "    xs = []\n",
    "    ys = []\n",
    "\n",
    "    for ci,this_xs in class_xs:\n",
    "        num = len(this_xs) \n",
    "        if num > size:\n",
    "            np.random.shuffle(this_xs)\n",
    "            x_ = this_xs[:size]\n",
    "            y_ = np.empty(size)\n",
    "            y_.fill(ci)\n",
    "        else: \n",
    "            x_ = this_xs[:]\n",
    "            y_ = np.empty(num)\n",
    "            y_.fill(ci)\n",
    "            \n",
    "        xs.append(x_)\n",
    "        ys.append(y_)\n",
    "\n",
    "    xs = np.concatenate(xs)\n",
    "    ys = np.concatenate(ys)\n",
    "\n",
    "    return xs,ys"
   ]
  },
  {
   "cell_type": "code",
   "execution_count": 6,
   "metadata": {},
   "outputs": [],
   "source": [
    "x_sample,y_sample = balanced_subsample(x,y, size=75)"
   ]
  },
  {
   "cell_type": "code",
   "execution_count": 11,
   "metadata": {},
   "outputs": [
    {
     "data": {
      "image/png": "[encoded data removed]",
      "text/plain": [
       "<matplotlib.figure.Figure at 0x7f86e40cada0>"
      ]
     },
     "metadata": {},
     "output_type": "display_data"
    }
   ],
   "source": [
    "plt.hist(y_sample, bins=100)\n",
    "plt.show()"
   ]
  },
  {
   "cell_type": "code",
   "execution_count": 12,
   "metadata": {},
   "outputs": [],
   "source": [
    "x = []\n",
    "y = []\n",
    "\n",
    "for xi, yi in zip(x_sample,y_sample): \n",
    "    filepath = filenames[xi]\n",
    "    image = process_image(filepath)\n",
    "    x.append(image)\n",
    "    y.append(yi)\n",
    "    image_flipped = np.fliplr(image)\n",
    "    yi_flipped = -yi\n",
    "    x.append(image_flipped)\n",
    "    y.append(yi_flipped)\n",
    "\n",
    "x = np.array(x)\n",
    "y = np.array(y)"
   ]
  },
  {
   "cell_type": "code",
   "execution_count": 14,
   "metadata": {},
   "outputs": [
    {
     "data": {
      "image/png": "[encoded data removed]",
      "text/plain": [
       "<matplotlib.figure.Figure at 0x7f86e9928550>"
      ]
     },
     "metadata": {},
     "output_type": "display_data"
    }
   ],
   "source": [
    "plt.hist(y, bins=100)\n",
    "plt.show()"
   ]
  },
  {
   "cell_type": "code",
   "execution_count": null,
   "metadata": {
    "collapsed": true
   },
   "outputs": [],
   "source": [
    "import csv \n",
    "import cv2 \n",
    "import numpy as np\n",
    "\n",
    "#data: 2 Laps of Track 1\n",
    "path = 'data/IMG/'\n",
    "images = [] \n",
    "measurements = [] \n",
    "with open('data/driving_log.csv') as csvfile: \n",
    "    reader = csv.reader(csvfile)\n",
    "    for line in reader: \n",
    "\n",
    "        correction = 0.25 #Tuning TBD\n",
    "        steering = line[3]\n",
    "        measurement = float(steering)\n",
    "        \n",
    "        # Center Image \n",
    "        filename = line[0].split('/')[-1]\n",
    "        image = cv2.imread(path + filename)\n",
    "        image = cv2.cvtColor(image, cv2.COLOR_BGR2RGB)\n",
    "        images.append(image)\n",
    "        measurements.append(measurement)\n",
    "        image_flipped = np.fliplr(image)\n",
    "        measurement_flipped = -measurement\n",
    "        images.append(image_flipped)\n",
    "        measurements.append(measurement_flipped)\n",
    "\n",
    "        # Left Image \n",
    "        filename = line[1].split('/')[-1]\n",
    "        image = cv2.imread(path + filename)\n",
    "        image = cv2.cvtColor(image, cv2.COLOR_BGR2RGB)\n",
    "        images.append(image)\n",
    "        measurements.append(measurement + correction)\n",
    "        image_flipped = np.fliplr(image)\n",
    "        measurement_flipped = -(measurement + correction) \n",
    "        images.append(image_flipped)\n",
    "        measurements.append(measurement_flipped)        \n",
    "        \n",
    "        # Right Image \n",
    "        filename = line[2].split('/')[-1]\n",
    "        image = cv2.imread(path + filename)\n",
    "        image = cv2.cvtColor(image, cv2.COLOR_BGR2RGB)\n",
    "        images.append(image)\n",
    "        measurements.append(measurement - correction)\n",
    "        image_flipped = np.fliplr(image)\n",
    "        measurement_flipped = -(measurement - correction) \n",
    "        images.append(image_flipped)\n",
    "        measurements.append(measurement_flipped)                \n",
    "        \n",
    "# More data : Track 2 \n",
    "path = 'data2/IMG/'\n",
    "with open('data2/driving_log.csv') as csvfile: \n",
    "    reader = csv.reader(csvfile)\n",
    "    for line in reader: \n",
    "\n",
    "        correction = 0.25 #Tuning TBD\n",
    "        steering = line[3]\n",
    "        measurement = float(steering)\n",
    "        \n",
    "        # Center Image \n",
    "        filename = line[0].split('/')[-1]\n",
    "        image = cv2.imread(path + filename)\n",
    "        image = cv2.cvtColor(image, cv2.COLOR_BGR2RGB)\n",
    "        images.append(image)\n",
    "        measurements.append(measurement)\n",
    "        image_flipped = np.fliplr(image)\n",
    "        measurement_flipped = -measurement\n",
    "        images.append(image_flipped)\n",
    "        measurements.append(measurement_flipped)\n",
    "\n",
    "        # Left Image \n",
    "        filename = line[1].split('/')[-1]\n",
    "        image = cv2.imread(path + filename)\n",
    "        image = cv2.cvtColor(image, cv2.COLOR_BGR2RGB)\n",
    "        images.append(image)\n",
    "        measurements.append(measurement + correction)\n",
    "        image_flipped = np.fliplr(image)\n",
    "        measurement_flipped = -(measurement + correction) \n",
    "        images.append(image_flipped)\n",
    "        measurements.append(measurement_flipped)        \n",
    "        \n",
    "        # Right Image \n",
    "        filename = line[2].split('/')[-1]\n",
    "        image = cv2.imread(path + filename)\n",
    "        image = cv2.cvtColor(image, cv2.COLOR_BGR2RGB)\n",
    "        images.append(image)\n",
    "        measurements.append(measurement - correction)\n",
    "        image_flipped = np.fliplr(image)\n",
    "        measurement_flipped = -(measurement - correction) \n",
    "        images.append(image_flipped)\n",
    "        measurements.append(measurement_flipped)                \n",
    "\n",
    "        \n",
    "# More data : Track \n",
    "path = 'data3/IMG/'\n",
    "with open('data3/driving_log.csv') as csvfile: \n",
    "    reader = csv.reader(csvfile)\n",
    "    for line in reader: \n",
    "\n",
    "        correction = 0.25 #Tuning TBD\n",
    "        steering = line[3]\n",
    "        measurement = float(steering)\n",
    "        \n",
    "        # Center Image \n",
    "        filename = line[0].split('/')[-1]\n",
    "        image = cv2.imread(path + filename)\n",
    "        image = cv2.cvtColor(image, cv2.COLOR_BGR2RGB)\n",
    "        images.append(image)\n",
    "        measurements.append(measurement)\n",
    "        image_flipped = np.fliplr(image)\n",
    "        measurement_flipped = -measurement\n",
    "        images.append(image_flipped)\n",
    "        measurements.append(measurement_flipped)\n",
    "\n",
    "        # Left Image \n",
    "        filename = line[1].split('/')[-1]\n",
    "        image = cv2.imread(path + filename)\n",
    "        image = cv2.cvtColor(image, cv2.COLOR_BGR2RGB)\n",
    "        images.append(image)\n",
    "        measurements.append(measurement + correction)\n",
    "        image_flipped = np.fliplr(image)\n",
    "        measurement_flipped = -(measurement + correction) \n",
    "        images.append(image_flipped)\n",
    "        measurements.append(measurement_flipped)        \n",
    "        \n",
    "        # Right Image \n",
    "        filename = line[2].split('/')[-1]\n",
    "        image = cv2.imread(path + filename)\n",
    "        image = cv2.cvtColor(image, cv2.COLOR_BGR2RGB)\n",
    "        images.append(image)\n",
    "        measurements.append(measurement - correction)\n",
    "        image_flipped = np.fliplr(image)\n",
    "        measurement_flipped = -(measurement - correction) \n",
    "        images.append(image_flipped)\n",
    "        measurements.append(measurement_flipped)                \n",
    "\n",
    "X = np.array(images)\n",
    "y = np.array(measurements)"
   ]
  },
  {
   "cell_type": "code",
   "execution_count": null,
   "metadata": {},
   "outputs": [],
   "source": [
    "import matplotlib.pyplot as plt\n",
    "%matplotlib inline\n",
    "plt.style.use('seaborn-talk')\n",
    "\n",
    "plt.hist(y, bins=100)\n",
    "plt.show()"
   ]
  },
  {
   "cell_type": "code",
   "execution_count": null,
   "metadata": {},
   "outputs": [],
   "source": []
  },
  {
   "cell_type": "code",
   "execution_count": null,
   "metadata": {},
   "outputs": [],
   "source": [
    "sX, sy = balanced_subsample(X,y)"
   ]
  },
  {
   "cell_type": "code",
   "execution_count": null,
   "metadata": {
    "collapsed": true
   },
   "outputs": [],
   "source": [
    "subsample = []\n",
    "\n",
    "if size is None:\n",
    "    n_smp = y.value_counts().min()\n",
    "else:\n",
    "    n_smp = int(size / len(y.value_counts().index))\n",
    "\n",
    "for label in y.value_counts().index:\n",
    "    samples = y[y == label].index.values\n",
    "    index_range = range(samples.shape[0])\n",
    "    indexes = np.random.choice(index_range, size=n_smp, replace=False)\n",
    "    subsample += samples[indexes].tolist()\n",
    "\n",
    "return subsample"
   ]
  },
  {
   "cell_type": "code",
   "execution_count": null,
   "metadata": {},
   "outputs": [],
   "source": [
    "from keras.models import Sequential\n",
    "from keras.layers import Dense, Dropout, Flatten, Lambda\n",
    "from keras.layers import Conv2D, MaxPooling2D, Cropping2D\n",
    "\n",
    "img_rows, img_cols, img_chls = X[1].shape"
   ]
  },
  {
   "cell_type": "markdown",
   "metadata": {},
   "source": [
    "### LeNet Architecture"
   ]
  },
  {
   "cell_type": "code",
   "execution_count": null,
   "metadata": {
    "collapsed": true
   },
   "outputs": [],
   "source": [
    "# keep_prob = 0.2\n",
    "# batch_size = 128 \n",
    "# epochs = 5\n",
    "\n",
    "# model = Sequential()\n",
    "# model.add(Lambda(lambda x: (x / 255.0) - 0.5, input_shape=X.shape[1:]))\n",
    "# model.add(Cropping2D(cropping=((70,25), (0,0))))\n",
    "# model.add(Conv2D(32, kernel_size=(3, 3), activation='relu'))\n",
    "# model.add(MaxPooling2D(pool_size=(2, 2)))\n",
    "# model.add(Conv2D(64, (3, 3), activation='relu'))\n",
    "# model.add(MaxPooling2D(pool_size=(2, 2)))\n",
    "# model.add(Dropout(keep_prob))\n",
    "# model.add(Flatten())\n",
    "# model.add(Dense(120))\n",
    "# model.add(Dropout(keep_prob))\n",
    "# model.add(Dense(80))\n",
    "# model.add(Dropout(keep_prob))\n",
    "# model.add(Dense(1))\n",
    "\n",
    "# model.compile(loss='mse',\n",
    "#               optimizer='adam'\n",
    "#              )\n",
    "\n",
    "# model.fit(X, y,\n",
    "#           batch_size=batch_size,\n",
    "#           validation_split = 0.2,\n",
    "#           epochs=epochs,\n",
    "#           verbose=1, \n",
    "#           shuffle=True\n",
    "#          )\n",
    "          \n",
    "# model.save('model_lenet.h5')"
   ]
  },
  {
   "cell_type": "markdown",
   "metadata": {
    "collapsed": true
   },
   "source": [
    "### NVIDIA Architecture"
   ]
  },
  {
   "cell_type": "code",
   "execution_count": null,
   "metadata": {},
   "outputs": [],
   "source": [
    "keep_prob = 0.4\n",
    "batch_size = 64 \n",
    "epochs = 4\n",
    "\n",
    "model = Sequential()\n",
    "model.add(Lambda(lambda x: (x / 255.0) - 0.5, input_shape=X.shape[1:]))\n",
    "model.add(Cropping2D(cropping=((70,25), (0,0))))\n",
    "model.add(Conv2D(24, kernel_size=(5, 5), strides=(2,2), activation='relu'))\n",
    "model.add(Conv2D(36, kernel_size=(5, 5), strides=(2,2), activation='relu'))\n",
    "model.add(Conv2D(48, kernel_size=(5, 5), strides=(2,2), activation='relu'))\n",
    "model.add(Conv2D(64, kernel_size=(3, 3), activation='relu'))\n",
    "model.add(Conv2D(96, kernel_size=(3, 3), activation='relu'))\n",
    "model.add(Flatten())\n",
    "model.add(Dense(128))\n",
    "model.add(Dropout(keep_prob))\n",
    "model.add(Dense(64))\n",
    "model.add(Dropout(keep_prob))\n",
    "model.add(Dense(8))\n",
    "model.add(Dense(1))\n",
    "\n",
    "model.compile(loss='mse',\n",
    "              optimizer='adam'\n",
    "             )\n",
    "\n",
    "history_object = model.fit(X, y,\n",
    "          batch_size=batch_size,\n",
    "          validation_split = 0.2,\n",
    "          epochs=epochs,\n",
    "          verbose=1, \n",
    "          shuffle=True\n",
    "         )\n",
    "\n",
    "model.save('model_nvidia.h5')"
   ]
  },
  {
   "cell_type": "code",
   "execution_count": null,
   "metadata": {
    "collapsed": true
   },
   "outputs": [],
   "source": [
    "from keras.models import Model\n",
    "\n",
    "### print the keys contained in the history object\n",
    "print(history_object.history.keys())\n",
    "\n",
    "### plot the training and validation loss for each epoch\n",
    "plt.plot(history_object.history['loss'])\n",
    "plt.plot(history_object.history['val_loss'])\n",
    "plt.title('model mean squared error loss')\n",
    "plt.ylabel('mean squared error loss')\n",
    "plt.xlabel('epoch')\n",
    "plt.legend(['training set', 'validation set'], loc='upper right')\n",
    "plt.show()"
   ]
  },
  {
   "cell_type": "code",
   "execution_count": null,
   "metadata": {
    "collapsed": true
   },
   "outputs": [],
   "source": []
  }
 ],
 "metadata": {
  "hide_input": false,
  "kernelspec": {
   "display_name": "Python 3",
   "language": "python",
   "name": "python3"
  },
  "language_info": {
   "codemirror_mode": {
    "name": "ipython",
    "version": 3
   },
   "file_extension": ".py",
   "mimetype": "text/x-python",
   "name": "python",
   "nbconvert_exporter": "python",
   "pygments_lexer": "ipython3",
   "version": "3.4.3"
  },
  "widgets": {
   "state": {},
   "version": "1.1.2"
  }
 },
 "nbformat": 4,
 "nbformat_minor": 2
}
